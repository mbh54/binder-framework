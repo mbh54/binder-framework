{
 "cells": [
  {
   "cell_type": "markdown",
   "id": "e5167474",
   "metadata": {},
   "source": [
    "# Milestone Project\n",
    "\n",
    "Code by: Marziyeh Bahalou Horeh"
   ]
  },
  {
   "cell_type": "code",
   "execution_count": 2,
   "id": "50a57e97",
   "metadata": {},
   "outputs": [],
   "source": [
    "import pandas as pd"
   ]
  },
  {
   "cell_type": "code",
   "execution_count": 4,
   "id": "a9b7f61e",
   "metadata": {},
   "outputs": [],
   "source": [
    "df = pd.read_csv('Value_of_Energy_Cost_Savings_Program_Savings_for_Businesses_-_FY2020.csv')"
   ]
  },
  {
   "cell_type": "code",
   "execution_count": 5,
   "id": "1316028d",
   "metadata": {
    "scrolled": true
   },
   "outputs": [
    {
     "data": {
      "text/plain": [
       "Index(['Company Name', 'company contact', 'company email', 'company phone',\n",
       "       'Address', 'City', 'State', 'Postcode', 'Industry', 'Industry descr',\n",
       "       'Company Type', 'Current fulltime', 'Job created', 'Job retain',\n",
       "       'Effective Date', 'Total Savings',\n",
       "       'Savings from beginning receiving benefits', 'Borough', 'Latitude',\n",
       "       'Longitude', 'Community Board', 'Council District', 'Census Tract',\n",
       "       'BIN', 'BBL', 'NTA'],\n",
       "      dtype='object')"
      ]
     },
     "execution_count": 5,
     "metadata": {},
     "output_type": "execute_result"
    }
   ],
   "source": [
    "df.shape\n",
    "df.columns"
   ]
  },
  {
   "cell_type": "code",
   "execution_count": 6,
   "id": "2ee6800a",
   "metadata": {
    "scrolled": true
   },
   "outputs": [],
   "source": [
    "pd.set_option('display.max_column',26)"
   ]
  },
  {
   "cell_type": "code",
   "execution_count": 7,
   "id": "86920d74",
   "metadata": {
    "scrolled": true
   },
   "outputs": [],
   "source": [
    "df.columns = df.columns.str.replace(\" \", \"_\")\n",
    "\n",
    "df.columns = df.columns.str.lower()"
   ]
  },
  {
   "cell_type": "markdown",
   "id": "d4b3f125",
   "metadata": {},
   "source": [
    "#### How many different companies are represented in the data set?"
   ]
  },
  {
   "cell_type": "code",
   "execution_count": 8,
   "id": "f3930081",
   "metadata": {
    "scrolled": true
   },
   "outputs": [
    {
     "data": {
      "text/plain": [
       "439"
      ]
     },
     "execution_count": 8,
     "metadata": {},
     "output_type": "execute_result"
    }
   ],
   "source": [
    "df['company_name'].nunique()"
   ]
  },
  {
   "cell_type": "markdown",
   "id": "06f8cab8",
   "metadata": {},
   "source": [
    "There are 439 unique company names."
   ]
  },
  {
   "cell_type": "code",
   "execution_count": 55,
   "id": "68064af1",
   "metadata": {},
   "outputs": [
    {
     "data": {
      "text/plain": [
       "2"
      ]
     },
     "execution_count": 55,
     "metadata": {},
     "output_type": "execute_result"
    }
   ],
   "source": [
    "df['company_type'].nunique()"
   ]
  },
  {
   "cell_type": "markdown",
   "id": "10adc2e5",
   "metadata": {},
   "source": [
    "There are 2 different company types."
   ]
  },
  {
   "cell_type": "markdown",
   "id": "6da978ef",
   "metadata": {},
   "source": [
    "#### What is the total number of jobs created for businesses in Queens?"
   ]
  },
  {
   "cell_type": "code",
   "execution_count": 9,
   "id": "15a703b9",
   "metadata": {},
   "outputs": [],
   "source": [
    "filt = (df[\"city\"] == 'Queens')"
   ]
  },
  {
   "cell_type": "code",
   "execution_count": 10,
   "id": "d4d395fd",
   "metadata": {},
   "outputs": [
    {
     "data": {
      "text/plain": [
       "(67, 26)"
      ]
     },
     "execution_count": 10,
     "metadata": {},
     "output_type": "execute_result"
    }
   ],
   "source": [
    "df.loc[filt].shape"
   ]
  },
  {
   "cell_type": "code",
   "execution_count": 11,
   "id": "097ac551",
   "metadata": {},
   "outputs": [],
   "source": [
    "df_queends = df[df[\"city\"] == 'Queens']"
   ]
  },
  {
   "cell_type": "code",
   "execution_count": 12,
   "id": "d09617bd",
   "metadata": {},
   "outputs": [
    {
     "data": {
      "text/plain": [
       "90.0"
      ]
     },
     "execution_count": 12,
     "metadata": {},
     "output_type": "execute_result"
    }
   ],
   "source": [
    "df_queends[\"job_created\"].sum()"
   ]
  },
  {
   "cell_type": "markdown",
   "id": "37d40c73",
   "metadata": {},
   "source": [
    "Total number of jobs created for businesses in Queens is 90."
   ]
  },
  {
   "cell_type": "markdown",
   "id": "2b8114e5",
   "metadata": {},
   "source": [
    "#### How many different unique email domain names are there in the data set?"
   ]
  },
  {
   "cell_type": "code",
   "execution_count": 13,
   "id": "ef18ed38",
   "metadata": {},
   "outputs": [
    {
     "data": {
      "text/plain": [
       "356"
      ]
     },
     "execution_count": 13,
     "metadata": {},
     "output_type": "execute_result"
    }
   ],
   "source": [
    "df['email_domain'] = df['company_email'].str.split(\"@\").str[1]\n",
    "df\n",
    "df['email_domain'].nunique()"
   ]
  },
  {
   "cell_type": "markdown",
   "id": "367f63e5",
   "metadata": {},
   "source": [
    "There are 356 different unique email domain names are there in the data set."
   ]
  },
  {
   "cell_type": "markdown",
   "id": "3615c0af",
   "metadata": {},
   "source": [
    "#### Considering only NTAs with at least 5 listed businesses, what is the average total savings and the total jobs created for each NTA?"
   ]
  },
  {
   "cell_type": "code",
   "execution_count": 14,
   "id": "6f45d205",
   "metadata": {
    "scrolled": false
   },
   "outputs": [
    {
     "data": {
      "text/plain": [
       "Hunters Point-Sunnyside-West Maspeth        75\n",
       "Sunset Park West                            48\n",
       "Queensbridge-Ravenswood-Long Island City    16\n",
       "park-cemetery-etc-Brooklyn                  15\n",
       "Greenpoint                                  14\n",
       "                                            ..\n",
       "Washington Heights South                     1\n",
       "Forest Hills                                 1\n",
       "Morrisania-Melrose                           1\n",
       "Ocean Hill                                   1\n",
       "Co-op City                                   1\n",
       "Name: nta, Length: 79, dtype: int64"
      ]
     },
     "execution_count": 14,
     "metadata": {},
     "output_type": "execute_result"
    }
   ],
   "source": [
    "df['nta'].value_counts()"
   ]
  },
  {
   "cell_type": "code",
   "execution_count": 56,
   "id": "5d810d79",
   "metadata": {},
   "outputs": [],
   "source": [
    "nta_grp = df.groupby(['nta'])"
   ]
  },
  {
   "cell_type": "code",
   "execution_count": 17,
   "id": "49a1567e",
   "metadata": {
    "scrolled": true
   },
   "outputs": [
    {
     "data": {
      "text/html": [
       "<div>\n",
       "<style scoped>\n",
       "    .dataframe tbody tr th:only-of-type {\n",
       "        vertical-align: middle;\n",
       "    }\n",
       "\n",
       "    .dataframe tbody tr th {\n",
       "        vertical-align: top;\n",
       "    }\n",
       "\n",
       "    .dataframe thead th {\n",
       "        text-align: right;\n",
       "    }\n",
       "</style>\n",
       "<table border=\"1\" class=\"dataframe\">\n",
       "  <thead>\n",
       "    <tr style=\"text-align: right;\">\n",
       "      <th></th>\n",
       "      <th>mean</th>\n",
       "      <th>sum</th>\n",
       "    </tr>\n",
       "    <tr>\n",
       "      <th>nta</th>\n",
       "      <th></th>\n",
       "      <th></th>\n",
       "    </tr>\n",
       "  </thead>\n",
       "  <tbody>\n",
       "    <tr>\n",
       "      <th>Astoria</th>\n",
       "      <td>NaN</td>\n",
       "      <td>0.0</td>\n",
       "    </tr>\n",
       "    <tr>\n",
       "      <th>Baisley Park</th>\n",
       "      <td>NaN</td>\n",
       "      <td>0.0</td>\n",
       "    </tr>\n",
       "    <tr>\n",
       "      <th>Battery Park City-Lower Manhattan</th>\n",
       "      <td>NaN</td>\n",
       "      <td>0.0</td>\n",
       "    </tr>\n",
       "    <tr>\n",
       "      <th>Bedford</th>\n",
       "      <td>NaN</td>\n",
       "      <td>0.0</td>\n",
       "    </tr>\n",
       "    <tr>\n",
       "      <th>Bensonhurst West</th>\n",
       "      <td>NaN</td>\n",
       "      <td>0.0</td>\n",
       "    </tr>\n",
       "    <tr>\n",
       "      <th>...</th>\n",
       "      <td>...</td>\n",
       "      <td>...</td>\n",
       "    </tr>\n",
       "    <tr>\n",
       "      <th>Whitestone</th>\n",
       "      <td>10.0</td>\n",
       "      <td>10.0</td>\n",
       "    </tr>\n",
       "    <tr>\n",
       "      <th>Williamsburg</th>\n",
       "      <td>NaN</td>\n",
       "      <td>0.0</td>\n",
       "    </tr>\n",
       "    <tr>\n",
       "      <th>Windsor Terrace</th>\n",
       "      <td>NaN</td>\n",
       "      <td>0.0</td>\n",
       "    </tr>\n",
       "    <tr>\n",
       "      <th>Woodside</th>\n",
       "      <td>NaN</td>\n",
       "      <td>0.0</td>\n",
       "    </tr>\n",
       "    <tr>\n",
       "      <th>park-cemetery-etc-Brooklyn</th>\n",
       "      <td>NaN</td>\n",
       "      <td>0.0</td>\n",
       "    </tr>\n",
       "  </tbody>\n",
       "</table>\n",
       "<p>79 rows × 2 columns</p>\n",
       "</div>"
      ],
      "text/plain": [
       "                                   mean   sum\n",
       "nta                                          \n",
       "Astoria                             NaN   0.0\n",
       "Baisley Park                        NaN   0.0\n",
       "Battery Park City-Lower Manhattan   NaN   0.0\n",
       "Bedford                             NaN   0.0\n",
       "Bensonhurst West                    NaN   0.0\n",
       "...                                 ...   ...\n",
       "Whitestone                         10.0  10.0\n",
       "Williamsburg                        NaN   0.0\n",
       "Windsor Terrace                     NaN   0.0\n",
       "Woodside                            NaN   0.0\n",
       "park-cemetery-etc-Brooklyn          NaN   0.0\n",
       "\n",
       "[79 rows x 2 columns]"
      ]
     },
     "execution_count": 17,
     "metadata": {},
     "output_type": "execute_result"
    }
   ],
   "source": [
    "nta_grp['job_created'].agg(['mean','sum'])"
   ]
  },
  {
   "cell_type": "code",
   "execution_count": 18,
   "id": "65714612",
   "metadata": {
    "scrolled": true
   },
   "outputs": [],
   "source": [
    "counts = df['nta'].value_counts() "
   ]
  },
  {
   "cell_type": "code",
   "execution_count": 19,
   "id": "2f61ef78",
   "metadata": {},
   "outputs": [],
   "source": [
    "filt = counts.index[counts >= 5]"
   ]
  },
  {
   "cell_type": "code",
   "execution_count": 57,
   "id": "26886431",
   "metadata": {},
   "outputs": [
    {
     "data": {
      "text/plain": [
       "Index(['Hunters Point-Sunnyside-West Maspeth', 'Sunset Park West',\n",
       "       'Queensbridge-Ravenswood-Long Island City',\n",
       "       'park-cemetery-etc-Brooklyn', 'Greenpoint', 'Mott Haven-Port Morris',\n",
       "       'Hunts Point', 'East Williamsburg',\n",
       "       'Carroll Gardens-Columbia Street-Red Hook', 'Bushwick South',\n",
       "       'DUMBO-Vinegar Hill-Downtown Brooklyn-Boerum Hill', 'East New York',\n",
       "       'Maspeth', 'Crown Heights North', 'Manhattanville',\n",
       "       'Battery Park City-Lower Manhattan', 'Steinway', 'College Point',\n",
       "       'Springfield Gardens South-Brookville',\n",
       "       'SoHo-TriBeCa-Civic Center-Little Italy'],\n",
       "      dtype='object')"
      ]
     },
     "execution_count": 57,
     "metadata": {},
     "output_type": "execute_result"
    }
   ],
   "source": [
    "filt"
   ]
  },
  {
   "cell_type": "code",
   "execution_count": 20,
   "id": "d2707645",
   "metadata": {
    "scrolled": true
   },
   "outputs": [],
   "source": [
    "new_df = df[df['nta'].isin(filt)]\n",
    "new_df_grp = new_df.groupby(['nta'])\n",
    "new_df.to_csv(\"new_df.csv\")"
   ]
  },
  {
   "cell_type": "code",
   "execution_count": 21,
   "id": "4fae102a",
   "metadata": {
    "scrolled": true
   },
   "outputs": [],
   "source": [
    "mean_grp = new_df_grp['total_savings'].mean()\n",
    "sum_grp = new_df_grp['job_created'].sum()"
   ]
  },
  {
   "cell_type": "code",
   "execution_count": 22,
   "id": "80c94d9e",
   "metadata": {},
   "outputs": [],
   "source": [
    "df_res = pd.concat([mean_grp,sum_grp], axis='columns', sort=False)"
   ]
  },
  {
   "cell_type": "code",
   "execution_count": 23,
   "id": "8bea1d9a",
   "metadata": {},
   "outputs": [],
   "source": [
    "df_res.rename(columns = {'total_savings': \"mean_total_saving\", 'job_created':'total_job_created'}, inplace = True)"
   ]
  },
  {
   "cell_type": "code",
   "execution_count": 24,
   "id": "8c047d3b",
   "metadata": {},
   "outputs": [],
   "source": [
    "df_res.to_csv(\"Day4results1.csv\")"
   ]
  },
  {
   "cell_type": "markdown",
   "id": "ab45a275",
   "metadata": {},
   "source": [
    "#### Scatter plot of jobs created versus average savings."
   ]
  },
  {
   "cell_type": "code",
   "execution_count": 25,
   "id": "c4a35d53",
   "metadata": {
    "scrolled": true
   },
   "outputs": [
    {
     "data": {
      "image/png": "[encoded data removed]",
      "text/plain": [
       "<Figure size 432x288 with 1 Axes>"
      ]
     },
     "metadata": {
      "needs_background": "light"
     },
     "output_type": "display_data"
    },
    {
     "data": {
      "image/png": "[encoded data removed]",
      "text/plain": [
       "<Figure size 432x288 with 1 Axes>"
      ]
     },
     "metadata": {
      "needs_background": "light"
     },
     "output_type": "display_data"
    }
   ],
   "source": [
    "import matplotlib as mlp\n",
    "import matplotlib.pyplot as plt\n",
    "import numpy as np\n",
    "\n",
    "fig, ax = plt.subplots()\n",
    "plt.scatter(mean_grp,sum_grp)\n",
    "ax.set_xlabel('Average savings', fontsize=12)\n",
    "ax.set_ylabel('Total jobs created', fontsize=12)\n",
    "ax.set_title('Standard Scale')\n",
    "\n",
    "\n",
    "fig, ax = plt.subplots()\n",
    "plt.scatter(mean_grp,sum_grp)\n",
    "ax.set_xlabel('Average savings', fontsize=12)\n",
    "ax.set_ylabel('Total jobs created', fontsize=12)\n",
    "ax.set_title('Logarithmic Scale')\n",
    "plt.xscale(\"log\")\n",
    "\n",
    "plt.subplots_adjust(wspace=0.3)\n",
    "plt.show()"
   ]
  },
  {
   "cell_type": "markdown",
   "id": "aec5afd8",
   "metadata": {},
   "source": [
    "#### Histogram of the log of the average total savings."
   ]
  },
  {
   "cell_type": "code",
   "execution_count": 58,
   "id": "50cbe80c",
   "metadata": {
    "scrolled": true
   },
   "outputs": [
    {
     "data": {
      "image/png": "[encoded data removed]",
      "text/plain": [
       "<Figure size 432x288 with 1 Axes>"
      ]
     },
     "metadata": {
      "needs_background": "light"
     },
     "output_type": "display_data"
    }
   ],
   "source": [
    "import numpy as np\n",
    "\n",
    "fix, ax=plt.subplots()\n",
    "ax.hist(mean_grp,log=True)\n",
    "ax.set_xlabel('Log of Average Total Savings')\n",
    "ax.set_ylabel('Frequency')\n",
    "ax.set_title('Histogram of Log of Average Total Savings')\n",
    "\n",
    "plt.show()"
   ]
  },
  {
   "cell_type": "markdown",
   "id": "6f86d012",
   "metadata": {},
   "source": [
    "#### Line plot of the total jobs created for each month for NTAs with more than 5 businesses"
   ]
  },
  {
   "cell_type": "code",
   "execution_count": 27,
   "id": "36534b26",
   "metadata": {},
   "outputs": [],
   "source": [
    "new_df_copy = new_df.copy()\n",
    "new_df_copy['effective_date'] = pd.to_datetime(new_df_copy['effective_date'])"
   ]
  },
  {
   "cell_type": "code",
   "execution_count": 28,
   "id": "df6de4be",
   "metadata": {},
   "outputs": [],
   "source": [
    "new_df_copy['month'] = pd.to_datetime(new_df_copy['effective_date']).dt.to_period('M')"
   ]
  },
  {
   "cell_type": "code",
   "execution_count": 29,
   "id": "d6a8c094",
   "metadata": {},
   "outputs": [],
   "source": [
    "new_df_copy['month'].head()\n",
    "jobs_montly = new_df_copy.groupby('month')\n",
    "tot_job_montly = jobs_montly['job_created'].sum()"
   ]
  },
  {
   "cell_type": "code",
   "execution_count": 52,
   "id": "60b29350",
   "metadata": {},
   "outputs": [
    {
     "data": {
      "image/png": "[encoded data removed]",
      "text/plain": [
       "<Figure size 432x288 with 1 Axes>"
      ]
     },
     "metadata": {
      "needs_background": "light"
     },
     "output_type": "display_data"
    }
   ],
   "source": [
    "tot_job_montly.plot()\n",
    "\n",
    "plt.xlabel(\"Month\")\n",
    "plt.ylabel(\"Number of Jobs\")\n",
    "plt.title(\"Monthly jobs for NTAs with more than 5 businesses\")\n",
    "\n",
    "plt.show()"
   ]
  },
  {
   "cell_type": "markdown",
   "id": "ece201ff",
   "metadata": {},
   "source": [
    "#### Line plot of the total jobs created for each month for all NTAs "
   ]
  },
  {
   "cell_type": "code",
   "execution_count": 45,
   "id": "4fd283b1",
   "metadata": {},
   "outputs": [],
   "source": [
    "try:\n",
    "    df['effective_date'] = pd.to_datetime(df['effective_date'], format='%m/%d/%Y')\n",
    "except ValueError as e:\n",
    "    print(f\"Error: {e}\")\n",
    "    "
   ]
  },
  {
   "cell_type": "code",
   "execution_count": 49,
   "id": "bdfd7963",
   "metadata": {},
   "outputs": [],
   "source": [
    "df['month']=pd.to_datetime(df['effective_date']).dt.to_period('M')"
   ]
  },
  {
   "cell_type": "code",
   "execution_count": 51,
   "id": "429e5413",
   "metadata": {},
   "outputs": [],
   "source": [
    "tot_job_montly_allnta = df.groupby('month')['job_created'].sum()"
   ]
  },
  {
   "cell_type": "code",
   "execution_count": 54,
   "id": "6c9bef10",
   "metadata": {},
   "outputs": [
    {
     "data": {
      "image/png": "[encoded data removed]",
      "text/plain": [
       "<Figure size 432x288 with 1 Axes>"
      ]
     },
     "metadata": {
      "needs_background": "light"
     },
     "output_type": "display_data"
    }
   ],
   "source": [
    "tot_job_montly_allnta.plot()\n",
    "\n",
    "plt.xlabel(\"Month\")\n",
    "plt.ylabel(\"Number of Jobs\")\n",
    "plt.title(\"Monthly jobs for all NTAs\")\n",
    "\n",
    "plt.show()"
   ]
  },
  {
   "cell_type": "code",
   "execution_count": null,
   "id": "e5d78024",
   "metadata": {},
   "outputs": [],
   "source": []
  }
 ],
 "metadata": {
  "kernelspec": {
   "display_name": "Python 3 (ipykernel)",
   "language": "python",
   "name": "python3"
  },
  "language_info": {
   "codemirror_mode": {
    "name": "ipython",
    "version": 3
   },
   "file_extension": ".py",
   "mimetype": "text/x-python",
   "name": "python",
   "nbconvert_exporter": "python",
   "pygments_lexer": "ipython3",
   "version": "3.9.12"
  }
 },
 "nbformat": 4,
 "nbformat_minor": 5
}
